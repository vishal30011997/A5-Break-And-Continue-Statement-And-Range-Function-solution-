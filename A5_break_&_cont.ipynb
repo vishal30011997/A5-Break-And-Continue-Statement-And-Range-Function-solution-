{
 "cells": [
  {
   "cell_type": "markdown",
   "id": "82b3decb-b00f-45c1-b69c-02d4aecd5e93",
   "metadata": {},
   "source": [
    "A5 : Break And Continue StatementAnd Range Function (solution)                                       Date : 04/03/2024"
   ]
  },
  {
   "cell_type": "markdown",
   "id": "2220da8e-5f42-4041-ae5d-70f0833eec97",
   "metadata": {},
   "source": [
    "Q1. Write a program to print numbers from 1 to 10, but stop if the number is 5."
   ]
  },
  {
   "cell_type": "code",
   "execution_count": 7,
   "id": "69b5a3c2-90ea-4e81-88a1-c428892ff90f",
   "metadata": {},
   "outputs": [
    {
     "name": "stdout",
     "output_type": "stream",
     "text": [
      "1\n",
      "2\n",
      "3\n",
      "4\n"
     ]
    }
   ],
   "source": [
    "# solution\n",
    "num = 10\n",
    "for i in range(1, 11):\n",
    "    if (i==5):\n",
    "        break\n",
    "    print(i)    "
   ]
  },
  {
   "cell_type": "markdown",
   "id": "1cbe8ef5-69fc-45f1-be6e-81f9627fcc77",
   "metadata": {},
   "source": [
    "Q2. Write a program to iterate through a list and stop when encountering a specific element."
   ]
  },
  {
   "cell_type": "code",
   "execution_count": 3,
   "id": "d98aa36d-d13e-4642-9e53-22aea5a82a2f",
   "metadata": {},
   "outputs": [
    {
     "name": "stdout",
     "output_type": "stream",
     "text": [
      "data_science\n",
      "machine_learning\n"
     ]
    }
   ],
   "source": [
    "# solution\n",
    "l = [\"data_science\", \"machine_learning\", \"data_analyst\", \"123456\", \"power_bi\"]\n",
    "for i in l:\n",
    "    if (i==\"data_analyst\"):  # considered specific element as \"data_analyst\".\n",
    "        break\n",
    "    print(i)   "
   ]
  },
  {
   "cell_type": "markdown",
   "id": "049a429e-e10b-4610-b70f-9de432b5cbea",
   "metadata": {},
   "source": [
    "Q3. Write a program to skip printing even numbers from 1 to 10."
   ]
  },
  {
   "cell_type": "code",
   "execution_count": 4,
   "id": "58df5703-68fc-4a80-9804-c454782003ae",
   "metadata": {},
   "outputs": [
    {
     "name": "stdout",
     "output_type": "stream",
     "text": [
      "1\n",
      "3\n",
      "5\n",
      "7\n",
      "9\n"
     ]
    }
   ],
   "source": [
    "# solution\n",
    "num = 10\n",
    "for i in range(1, num+1):\n",
    "    if(i%2==0):\n",
    "        continue\n",
    "    print(i)    "
   ]
  },
  {
   "cell_type": "markdown",
   "id": "05012d42-b18d-42ea-a7db-d42d378de374",
   "metadata": {},
   "source": [
    "Q4. Write a program to print numbers from 0 to 9 using range."
   ]
  },
  {
   "cell_type": "code",
   "execution_count": 5,
   "id": "be2d4a50-8690-4154-af97-8896c68d701e",
   "metadata": {},
   "outputs": [
    {
     "name": "stdout",
     "output_type": "stream",
     "text": [
      "0\n",
      "1\n",
      "2\n",
      "3\n",
      "4\n",
      "5\n",
      "6\n",
      "7\n",
      "8\n",
      "9\n"
     ]
    }
   ],
   "source": [
    "# solution\n",
    "num = 9\n",
    "for i in range(0, num+1):\n",
    "    print(i)"
   ]
  },
  {
   "cell_type": "markdown",
   "id": "3dec3a5b-1a4c-475c-b3de-f6959ee8b99c",
   "metadata": {},
   "source": [
    "Q5. Write a program to print multiplication tables from 1 to 5, but stop after the first table is printed for each number."
   ]
  },
  {
   "cell_type": "code",
   "execution_count": 3,
   "id": "6e7fc383-6ec5-4ce2-aaa4-2a4f4858c5d0",
   "metadata": {},
   "outputs": [
    {
     "name": "stdin",
     "output_type": "stream",
     "text": [
      "Enter a number :  6\n"
     ]
    },
    {
     "name": "stdout",
     "output_type": "stream",
     "text": [
      "6\n",
      "12\n",
      "18\n",
      "24\n",
      "30\n"
     ]
    }
   ],
   "source": [
    "# solution\n",
    "num = int(input(\"Enter a number : \"))\n",
    "mul = 1\n",
    "for i in range(1,6):\n",
    "    mul = num * i\n",
    "    print(mul)"
   ]
  },
  {
   "cell_type": "markdown",
   "id": "2a96eece-c160-47fb-99be-d704d3451f62",
   "metadata": {},
   "source": [
    "Q6. Write a program to skip printing even numbers using a while loop."
   ]
  },
  {
   "cell_type": "code",
   "execution_count": 1,
   "id": "76f8b952-fbdd-4c39-985f-1976a64fe93a",
   "metadata": {},
   "outputs": [
    {
     "name": "stdin",
     "output_type": "stream",
     "text": [
      "Enter a number 10\n"
     ]
    },
    {
     "name": "stdout",
     "output_type": "stream",
     "text": [
      "1\n",
      "3\n",
      "5\n",
      "7\n",
      "9\n"
     ]
    }
   ],
   "source": [
    "x = int(input(\"Enter a number\"))\n",
    "y = 1\n",
    "while(x>y):\n",
    "    if(y%2!=0):\n",
    "        print(y)  \n",
    "    y += 1"
   ]
  },
  {
   "cell_type": "code",
   "execution_count": null,
   "id": "7f62594f-d8cf-4cfb-a12e-0b2da858f2c2",
   "metadata": {},
   "outputs": [],
   "source": []
  }
 ],
 "metadata": {
  "kernelspec": {
   "display_name": "Python 3 (ipykernel)",
   "language": "python",
   "name": "python3"
  },
  "language_info": {
   "codemirror_mode": {
    "name": "ipython",
    "version": 3
   },
   "file_extension": ".py",
   "mimetype": "text/x-python",
   "name": "python",
   "nbconvert_exporter": "python",
   "pygments_lexer": "ipython3",
   "version": "3.10.8"
  }
 },
 "nbformat": 4,
 "nbformat_minor": 5
}
